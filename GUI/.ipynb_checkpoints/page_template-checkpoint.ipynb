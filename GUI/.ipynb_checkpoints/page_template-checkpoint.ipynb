{
 "cells": [
  {
   "cell_type": "markdown",
   "metadata": {},
   "source": [
    "# Single GUI Class Template\n",
    "\n",
    "Key Objectives\n",
    "* The GUI must be a single class which allows access to all components and logic\n",
    "* Must be able to load and resume a project from the proj_state\n",
    "* Must be able to handle the presence of non-IPyVeutify components\n",
    "* Must be as backwards compatible as possible to minimise refactoring time\n",
    "* Need to have blank templates for the page constructors\n",
    "\n",
    "<br>\n",
    "\n",
    "Could think about having all constructors and page specific methods as pure functions that are stored in the scripts - The GUI class is then only configured to know how to run them.\n",
    "\n",
    "<br>\n",
    "<br>\n",
    "\n",
    "Functions:\n",
    "* Page logic <- In this template the example is simple enough that no page logic functions are included\n",
    "* Constructors for each of the sub-components\n",
    "\n",
    "<br>\n",
    "\n",
    "Class:\n",
    "* Initialisation <- Constructs the page and adds actions to event triggers\n",
    "* Components <- Dictionary attribute mapping to key components\n",
    "* Mutation functions <- Functions which are triggered then change state in individual components\n",
    "* Actions <- Widget wrappers for the mutation functions\n",
    "\n",
    "\n",
    "<br>\n",
    "\n",
    "### Imports"
   ]
  },
  {
   "cell_type": "code",
   "execution_count": 1,
   "metadata": {},
   "outputs": [],
   "source": [
    "# GUI\n",
    "from ipywidgets import Layout, Box, VBox\n",
    "import ipyvuetify as v\n",
    "import ipywidgets as widgets\n",
    "import general_components as gc\n",
    "\n",
    "# Data Handling\n",
    "import json\n",
    "from IPython.display import JSON, IFrame\n",
    "\n",
    "# Misc\n",
    "import os"
   ]
  },
  {
   "cell_type": "markdown",
   "metadata": {},
   "source": [
    "<br>\n",
    "\n",
    "### Creating Components\n",
    "\n",
    "Before we can construct pages we must create some components to go inside them, here we'll create a simple counter button"
   ]
  },
  {
   "cell_type": "code",
   "execution_count": 2,
   "metadata": {},
   "outputs": [
    {
     "data": {
      "application/vnd.jupyter.widget-view+json": {
       "model_id": "80ad965beb504d708a21db208e439e4d",
       "version_major": 2,
       "version_minor": 0
      },
      "text/plain": [
       "Container(children=[Html(children=['Count: 0'], tag='H3', v_model=''), Btn(children=['Increment'], class_='ma-…"
      ]
     },
     "metadata": {},
     "output_type": "display_data"
    }
   ],
   "source": [
    "def construct_counter():\n",
    "    counter = v.Container(children=[\n",
    "        v.Html(tag='H3', children=['Count: 0'], v_model=''),\n",
    "        v.Btn(color='primary', class_='ma-2', children=['Increment'], v_model='')\n",
    "    ])\n",
    "    \n",
    "    return counter\n",
    "\n",
    "counter = construct_counter()\n",
    "\n",
    "counter"
   ]
  },
  {
   "cell_type": "markdown",
   "metadata": {},
   "source": [
    "<br>\n",
    "\n",
    "### Constructing a Page\n",
    "\n",
    "Whilst the counter container looks good it's not actually doing a lot at the moment, instead we want to have some interaction. To do so we'll draw from the VueX paradigm - where you have components, define mutations that alter that component, then trigger them with actions.\n",
    "\n",
    "As well as interactions we also want to have some form of state management, here we'll manage that using a dictionary that maps from component attributes to their values (which will later saved as a JSON object in the project directory)."
   ]
  },
  {
   "cell_type": "code",
   "execution_count": 3,
   "metadata": {},
   "outputs": [
    {
     "data": {
      "application/vnd.jupyter.widget-view+json": {
       "model_id": "49adb347b2f742b5af73ba5f049e0298",
       "version_major": 2,
       "version_minor": 0
      },
      "text/plain": [
       "Container(children=[Html(children=['Count: 0'], tag='H3', v_model=''), Btn(children=['Increment'], class_='ma-…"
      ]
     },
     "metadata": {},
     "output_type": "display_data"
    }
   ],
   "source": [
    "class PageTemplate(gc.MultiPageHandler):\n",
    "    \"\"\"\n",
    "    GUI template page\n",
    "    \n",
    "    \"\"\"\n",
    "    \n",
    "    def __init__(self, proj_state=None, page_name='Template'):     \n",
    "        # Initialising the parent class\n",
    "        super().__init__(page_name=page_name)\n",
    "        \n",
    "        # Constructing and assigning the components\n",
    "        self.container = construct_counter()\n",
    "        self.set_template_components()\n",
    "        \n",
    "        # Adding actions to event triggers\n",
    "        self.components[self.page_name]['count_btn'].on_event('click', self.run_update_count)\n",
    "        \n",
    "        # Optionally applying the provided components states\n",
    "        if proj_state is not None:\n",
    "            assert 'pages' in proj_state.keys(), 'proj_state must have a pages sub dictionary'\n",
    "            assert self.page_name in proj_state['pages'].keys(), 'The proj_state pages must include a key matching the specified page namey'\n",
    "            self.set_components_states(proj_state['pages'][self.page_name])\n",
    "            \n",
    "        # Setting the proj state\n",
    "        self.update_state()\n",
    "        \n",
    "    \n",
    "    # Components - This creates an attribute which maps to key components\n",
    "    def set_template_components(self):\n",
    "        \"\"\"\n",
    "        Assigns the component_name_to_component attribute\n",
    "        \"\"\"\n",
    "        \n",
    "        assert hasattr(self, 'components'), 'A components dictionary must be set'\n",
    "        \n",
    "        self.components[self.page_name] = {\n",
    "            'count_text' : self.container.children[0],\n",
    "            'count_btn' : self.container.children[1]\n",
    "        }\n",
    "        \n",
    "        \n",
    "    ## Mutations - These are where your functions which change content go\n",
    "    def update_count(self):\n",
    "        \"\"\"\n",
    "        Adds 1 to the current button count\n",
    "        \"\"\"\n",
    "        \n",
    "        count = int(self\n",
    "                    .components\n",
    "                    [self.page_name]\n",
    "                    ['count_text']\n",
    "                    .children[0]\n",
    "                    .split(': ')\n",
    "                    [-1]\n",
    "                   )\n",
    "        \n",
    "        count += 1\n",
    "        \n",
    "        self.components[self.page_name]['count_text'].children = [f'Count: {count}']\n",
    "    \n",
    "    \n",
    "    ## Actions - These provide a widget wrapper for mutation functions\n",
    "    def run_update_count(self, widget, event, data):\n",
    "        self.update_count()\n",
    "    \n",
    "        \n",
    "template = PageTemplate()\n",
    "\n",
    "template.container"
   ]
  },
  {
   "cell_type": "markdown",
   "metadata": {},
   "source": [
    "<br>\n",
    "\n",
    "Again similar to the VueX paradigm we have a components store, which is indexed by the page name and then the component name"
   ]
  },
  {
   "cell_type": "code",
   "execution_count": 4,
   "metadata": {},
   "outputs": [
    {
     "data": {
      "application/vnd.jupyter.widget-view+json": {
       "model_id": "2e5a45e5fe5d4f2d8687c689dcbfb6f3",
       "version_major": 2,
       "version_minor": 0
      },
      "text/plain": [
       "Html(children=['Count: 0'], tag='H3', v_model='')"
      ]
     },
     "metadata": {},
     "output_type": "display_data"
    }
   ],
   "source": [
    "template.components[template.page_name]['count_text']"
   ]
  },
  {
   "cell_type": "markdown",
   "metadata": {},
   "source": [
    "<br>\n",
    "\n",
    "We can use some of the built in `MultiPageHandler` helper functions to get information such as the components states, this will be carried out for all components specified within the component_name_to_component dictionary"
   ]
  },
  {
   "cell_type": "code",
   "execution_count": 5,
   "metadata": {},
   "outputs": [
    {
     "data": {
      "text/plain": [
       "{'count_text': {'v_model': '', 'children': ['Count: 0']},\n",
       " 'count_btn': {'v_model': '', 'value': None, 'children': ['Increment']}}"
      ]
     },
     "execution_count": 5,
     "metadata": {},
     "output_type": "execute_result"
    }
   ],
   "source": [
    "template.get_components_states()"
   ]
  },
  {
   "cell_type": "markdown",
   "metadata": {},
   "source": [
    "<br>\n",
    "\n",
    "We can set the proj_dir manually which will then enable us to save the page state"
   ]
  },
  {
   "cell_type": "code",
   "execution_count": 6,
   "metadata": {},
   "outputs": [],
   "source": [
    "proj_dir = '../data/projects/counter'\n",
    "\n",
    "if not os.path.isdir(proj_dir):\n",
    "    os.mkdir(proj_dir)\n",
    "\n",
    "template.proj_dir = proj_dir\n",
    "template.update_state(save=True)\n",
    "template.view()"
   ]
  },
  {
   "cell_type": "markdown",
   "metadata": {},
   "source": [
    "<br>\n",
    "\n",
    "We can now see that our page state has been added to the saved proj_state JSON"
   ]
  },
  {
   "cell_type": "code",
   "execution_count": 7,
   "metadata": {},
   "outputs": [
    {
     "data": {
      "application/json": {
       "pages": {
        "Template": {
         "count_btn": {
          "children": [
           "Increment"
          ],
          "v_model": "",
          "value": null
         },
         "count_text": {
          "children": [
           "Count: 0"
          ],
          "v_model": ""
         }
        }
       }
      },
      "text/plain": [
       "<IPython.core.display.JSON object>"
      ]
     },
     "execution_count": 7,
     "metadata": {
      "application/json": {
       "expanded": false,
       "root": "root"
      }
     },
     "output_type": "execute_result"
    }
   ],
   "source": [
    "with open(f'{proj_dir}/proj_state.json', 'r') as fp:\n",
    "    proj_state = json.load(fp)\n",
    "    \n",
    "JSON(proj_state)"
   ]
  },
  {
   "cell_type": "markdown",
   "metadata": {},
   "source": [
    "<br>\n",
    "\n",
    "As long as the proj_dir is specified you can use .view() to load the page according to its last saved state"
   ]
  },
  {
   "cell_type": "code",
   "execution_count": 8,
   "metadata": {},
   "outputs": [
    {
     "data": {
      "application/vnd.jupyter.widget-view+json": {
       "model_id": "234916c172bb4022834f737b60791605",
       "version_major": 2,
       "version_minor": 0
      },
      "text/plain": [
       "Container(children=[Html(children=['Count: 0'], tag='H3', v_model=''), Btn(children=['Increment'], class_='ma-…"
      ]
     },
     "metadata": {},
     "output_type": "display_data"
    }
   ],
   "source": [
    "template = PageTemplate()\n",
    "\n",
    "template.proj_dir = proj_dir\n",
    "template.view()\n",
    "\n",
    "template.container"
   ]
  },
  {
   "cell_type": "markdown",
   "metadata": {},
   "source": [
    "<br>\n",
    "\n",
    "### Creating a Multi-Page Application\n",
    "\n",
    "Before we create our template GUI we'll generate the individual pages"
   ]
  },
  {
   "cell_type": "code",
   "execution_count": 9,
   "metadata": {},
   "outputs": [],
   "source": [
    "pages = [\n",
    "    PageTemplate(page_name='Template'), \n",
    "    gc.IFramePage(src='https://voila.readthedocs.io/en/latest/?badge=latest', page_name='Voila Docs', width='100%')\n",
    "]"
   ]
  },
  {
   "cell_type": "markdown",
   "metadata": {},
   "source": [
    "<br>\n",
    "\n",
    "We'll then save their (blank) component states"
   ]
  },
  {
   "cell_type": "code",
   "execution_count": 10,
   "metadata": {},
   "outputs": [],
   "source": [
    "proj_dir = '../data/projects/template'\n",
    "\n",
    "if not os.path.isdir(proj_dir):\n",
    "    os.mkdir(proj_dir)\n",
    "    \n",
    "gc.set_default_proj_state(pages, proj_dir)"
   ]
  },
  {
   "cell_type": "markdown",
   "metadata": {},
   "source": [
    "<br>\n",
    "\n",
    "We'll quickly read in the proj_state to check it's worked"
   ]
  },
  {
   "cell_type": "code",
   "execution_count": 11,
   "metadata": {},
   "outputs": [
    {
     "data": {
      "application/json": {
       "name": null,
       "pages": {
        "Template": {
         "count_btn": {
          "children": [
           "Increment"
          ],
          "v_model": "",
          "value": null
         },
         "count_text": {
          "children": [
           "Count: 0"
          ],
          "v_model": ""
         }
        },
        "Voila Docs": {}
       }
      },
      "text/plain": [
       "<IPython.core.display.JSON object>"
      ]
     },
     "execution_count": 11,
     "metadata": {
      "application/json": {
       "expanded": false,
       "root": "root"
      }
     },
     "output_type": "execute_result"
    }
   ],
   "source": [
    "with open(f'{proj_dir}/proj_state.json', 'r') as fp:\n",
    "    proj_state = json.load(fp)\n",
    "    \n",
    "JSON(proj_state)"
   ]
  },
  {
   "cell_type": "markdown",
   "metadata": {},
   "source": [
    "<br>\n",
    "\n",
    "We're now ready to construct our GUI. When used in a notebook we'll create a vertically stacked box to hold the navigation and selected page, when launched through voila-vuetify they will be rendered in a more traditional format"
   ]
  },
  {
   "cell_type": "code",
   "execution_count": 12,
   "metadata": {},
   "outputs": [
    {
     "data": {
      "application/vnd.jupyter.widget-view+json": {
       "model_id": "db2bb6ed2c5a4dc7bf0f6dbac49c9086",
       "version_major": 2,
       "version_minor": 0
      },
      "text/plain": [
       "VBox(children=(Container(children=[Btn(block=False, children=['Template'], text=True), Btn(block=False, childr…"
      ]
     },
     "metadata": {},
     "output_type": "display_data"
    }
   ],
   "source": [
    "# User inputs \n",
    "first_page = 'Template'\n",
    "\n",
    "# Constructing the GUI and navigation\n",
    "gui, nav = gc.construct_GUI_and_nav(pages, proj_dir, first_page)\n",
    "\n",
    "# Viewing the interface\n",
    "VBox(children=[nav, gui.container])"
   ]
  }
 ],
 "metadata": {
  "kernelspec": {
   "display_name": "Dash",
   "language": "python",
   "name": "dash"
  },
  "language_info": {
   "codemirror_mode": {
    "name": "ipython",
    "version": 3
   },
   "file_extension": ".py",
   "mimetype": "text/x-python",
   "name": "python",
   "nbconvert_exporter": "python",
   "pygments_lexer": "ipython3",
   "version": "3.8.5"
  }
 },
 "nbformat": 4,
 "nbformat_minor": 4
}
